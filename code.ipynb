{
  "cells": [
    {
      "cell_type": "markdown",
      "metadata": {
        "id": "_ySJatbBN9ca"
      },
      "source": [
        "## Preprocessing\n"
      ]
    },
    {
      "cell_type": "code",
      "execution_count": 1,
      "metadata": {
        "colab": {
          "base_uri": "https://localhost:8080/"
        },
        "id": "5c0azyYBNgvd",
        "outputId": "239a438b-2082-4671-bfae-362f8b98b4bb"
      },
      "outputs": [
        {
          "name": "stderr",
          "output_type": "stream",
          "text": [
            "[nltk_data] Downloading package stopwords to /root/nltk_data...\n",
            "[nltk_data]   Unzipping corpora/stopwords.zip.\n"
          ]
        },
        {
          "data": {
            "text/plain": [
              "True"
            ]
          },
          "execution_count": 1,
          "metadata": {},
          "output_type": "execute_result"
        }
      ],
      "source": [
        "import os\n",
        "import re\n",
        "import string\n",
        "from nltk.tokenize import word_tokenize\n",
        "from nltk.corpus import stopwords\n",
        "\n",
        "# Ensure you have the NLTK stopwords downloaded\n",
        "import nltk\n",
        "nltk.download('stopwords')\n",
        "\n",
        "# def preprocess_text(text):\n",
        "#     # Remove punctuation and extra spaces\n",
        "#     text = re.sub(r'[^\\w\\s]', '', text)\n",
        "#     text = re.sub(r'\\s+', ' ', text).strip()\n",
        "#     return text\n",
        "\n",
        "# def preprocess_file(input_file, output_file):\n",
        "#     with open(input_file, 'r', encoding='utf-8') as infile, open(output_file, 'w', encoding='utf-8') as outfile:\n",
        "#         for line in infile:\n",
        "#             preprocessed_line = preprocess_text(line)\n",
        "#             outfile.write(preprocessed_line + '\\n')\n",
        "\n",
        "# def preprocess_dataset(input_directory, output_directory):\n",
        "#     if not os.path.exists(output_directory):\n",
        "#         os.makedirs(output_directory)\n",
        "\n",
        "#     for filename in os.listdir(input_directory):\n",
        "#         if filename.endswith('.en'):\n",
        "#             input_file = os.path.join(input_directory, filename)\n",
        "#             output_file = os.path.join(output_directory, filename)\n",
        "\n",
        "#             preprocess_file(input_file, output_file)\n",
        "\n",
        "# if __name__ == '__main__':\n",
        "#     input_directory = \"data\"\n",
        "#     output_directory = \"your_output_directory\"\n",
        "\n",
        "#     preprocess_dataset(input_directory, output_directory)\n"
      ]
    },
    {
      "cell_type": "markdown",
      "metadata": {
        "id": "QCgC9MkkOAq-"
      },
      "source": [
        "## Data-Handling"
      ]
    },
    {
      "cell_type": "code",
      "execution_count": 63,
      "metadata": {
        "colab": {
          "base_uri": "https://localhost:8080/"
        },
        "id": "qKeSXCDNOE-l",
        "outputId": "98094543-c600-4fd6-a03b-46c46129256f"
      },
      "outputs": [
        {
          "name": "stdout",
          "output_type": "stream",
          "text": [
            "Drive already mounted at /content/drive; to attempt to forcibly remount, call drive.mount(\"/content/drive\", force_remount=True).\n"
          ]
        }
      ],
      "source": [
        "import torch\n",
        "import torch.nn as nn\n",
        "import torch.optim as optim\n",
        "from torch.utils.data import DataLoader, Dataset\n",
        "import numpy as np\n",
        "import random\n",
        "\n",
        "from google.colab import drive\n",
        "\n",
        "# Mount your Google Drive\n",
        "drive.mount('/content/drive')\n",
        "\n",
        "#read input files\n",
        "trainEn = \"/content/drive/My Drive/train.en\"\n",
        "trainFr = \"/content/drive/My Drive/train.fr\"\n",
        "testEn = \"/content/drive/My Drive/test.en\"\n",
        "testFr = \"/content/drive/My Drive/test.fr\"\n",
        "devEn = \"/content/drive/My Drive/dev.en\"\n",
        "devFr = \"/content/drive/My Drive/dev.fr\"\n",
        "\n",
        "# Initialize a list to store the sentences\n",
        "trainDataEN = []\n",
        "trainDataFR = []\n",
        "testDataEN = []\n",
        "testDataFR = []\n",
        "devDataEN = []\n",
        "devDataFR = []\n",
        "\n",
        "# Read the file line by line\n",
        "with open(trainEn, \"r\") as file:\n",
        "    for line in file:\n",
        "        # Remove leading and trailing whitespace and append the line as a sentence\n",
        "        sentence = line.strip()\n",
        "        trainDataEN.append(sentence)\n",
        "\n",
        "with open(trainFr, \"r\") as file:\n",
        "    for line in file:\n",
        "        sentence = line.strip()\n",
        "        trainDataFR.append(sentence)\n",
        "\n",
        "with open(testEn, \"r\") as file:\n",
        "    for line in file:\n",
        "        sentence = line.strip()\n",
        "        testDataEN.append(sentence)\n",
        "\n",
        "with open(testFr, \"r\") as file:\n",
        "    for line in file:\n",
        "        sentence = line.strip()\n",
        "        testDataFR.append(sentence)\n",
        "\n",
        "with open(devEn, \"r\") as file:\n",
        "    for line in file:\n",
        "        sentence = line.strip()\n",
        "        devDataEN.append(sentence)\n",
        "\n",
        "with open(devFr, \"r\") as file:\n",
        "    for line in file:\n",
        "        sentence = line.strip()\n",
        "        devDataFR.append(sentence)\n"
      ]
    },
    {
      "cell_type": "markdown",
      "metadata": {
        "id": "Yq6nnwLXONcs"
      },
      "source": [
        "## Dataloader"
      ]
    },
    {
      "cell_type": "code",
      "execution_count": 69,
      "metadata": {
        "id": "TU1kHjRPORIV"
      },
      "outputs": [],
      "source": [
        "import torch\n",
        "from torch.utils.data import DataLoader, Dataset\n",
        "from torch.nn.utils.rnn import pad_sequence\n",
        "from collections import Counter\n",
        "from torchtext.data import get_tokenizer\n",
        "from torchtext.vocab import Vocab\n",
        "import spacy\n",
        "from spacy.lang.fr.examples import sentences\n",
        "import collections\n",
        "\n"
      ]
    },
    {
      "cell_type": "code",
      "execution_count": null,
      "metadata": {
        "id": "kQzRiESQOsuP"
      },
      "outputs": [],
      "source": [
        "!python -m spacy download en_core_web_sm\n"
      ]
    },
    {
      "cell_type": "code",
      "execution_count": null,
      "metadata": {
        "id": "rgCvCs9lOt3a"
      },
      "outputs": [],
      "source": [
        "!python -m spacy download fr_core_news_sm\n"
      ]
    },
    {
      "cell_type": "code",
      "execution_count": 70,
      "metadata": {
        "id": "WgyjT6HIXUSt"
      },
      "outputs": [],
      "source": [
        "# Initialize vocabularies with special tokens\n",
        "special_tokens = ['<pad>', '<sos>', '<eos>', '<unk>']\n",
        "vocab_en = {token: index for index, token in enumerate(special_tokens)}\n",
        "vocab_fr = {token: index for index, token in enumerate(special_tokens)}\n",
        "\n",
        "# Function to build vocabulary\n",
        "def build_vocab(data, vocab):\n",
        "    for sentence in data:\n",
        "        words = sentence.split()  # Split the sentence into words\n",
        "        for word in words:\n",
        "            if word not in vocab:\n",
        "                vocab[word] = len(vocab)\n",
        "\n",
        "# Build vocabularies from training data\n",
        "build_vocab(trainDataEN, vocab_en)\n",
        "build_vocab(trainDataFR, vocab_fr)\n",
        "\n"
      ]
    },
    {
      "cell_type": "code",
      "execution_count": 85,
      "metadata": {
        "colab": {
          "base_uri": "https://localhost:8080/"
        },
        "id": "uFq0pNE-YJnT",
        "outputId": "3f837842-3521-48d4-b02a-d059d5a1a8d0"
      },
      "outputs": [
        {
          "name": "stdout",
          "output_type": "stream",
          "text": [
            "English Vocabulary Size: 27004\n",
            "French Vocabulary Size: 35348\n"
          ]
        }
      ],
      "source": [
        "print(\"English Vocabulary Size:\", len(vocab_en))\n",
        "print(\"French Vocabulary Size:\", len(vocab_fr))\n",
        "src_vocab_size = len(vocab_en)\n",
        "trg_vocab_size = len(vocab_fr)\n"
      ]
    },
    {
      "cell_type": "code",
      "execution_count": 77,
      "metadata": {
        "id": "FRi3UR3RYjtU"
      },
      "outputs": [],
      "source": [
        "# Function to convert sentences to numerical indices\n",
        "def sentences_to_indices(sentences, vocab):\n",
        "    indices = []\n",
        "    for sentence in sentences:\n",
        "        words = sentence.split()\n",
        "        sentence_indices = [vocab.get(word, vocab['<unk>']) for word in words]\n",
        "        indices.append(sentence_indices)\n",
        "    return indices\n",
        "\n",
        "# Convert data to numerical indices\n",
        "trainDataEN_indices = sentences_to_indices(trainDataEN, vocab_en)\n",
        "trainDataFR_indices = sentences_to_indices(trainDataFR, vocab_fr)\n",
        "testDataEN_indices = sentences_to_indices(testDataEN, vocab_en)\n",
        "testDataFR_indices = sentences_to_indices(testDataFR, vocab_fr)\n",
        "devDataEN_indices = sentences_to_indices(devDataEN, vocab_en)\n",
        "devDataFR_indices = sentences_to_indices(devDataFR, vocab_fr)\n"
      ]
    },
    {
      "cell_type": "code",
      "execution_count": 93,
      "metadata": {
        "id": "0O4L5IwqZxBd"
      },
      "outputs": [],
      "source": [
        "# Define your custom dataset for training\n",
        "class CustomDataset(Dataset):\n",
        "    def __init__(self, source_indices, target_indices, max_seq_length):\n",
        "        self.source_indices = source_indices\n",
        "        self.target_indices = target_indices\n",
        "        self.max_seq_length = max_seq_length\n",
        "\n",
        "    def __len__(self):\n",
        "        return len(self.source_indices)\n",
        "\n",
        "    def __getitem__(self, idx):\n",
        "        source_sequence = self.source_indices[idx]\n",
        "        target_sequence = self.target_indices[idx]\n",
        "\n",
        "        # Pad sequences to have the same length\n",
        "        source_sequence = source_sequence[:self.max_seq_length]\n",
        "        target_sequence = target_sequence[:self.max_seq_length]\n",
        "\n",
        "        # Pad with <pad> token if the sequence is shorter\n",
        "        while len(source_sequence) < self.max_seq_length:\n",
        "            source_sequence.append(vocab_en['<pad>'])\n",
        "        while len(target_sequence) < self.max_seq_length:\n",
        "            target_sequence.append(vocab_fr['<pad>'])\n",
        "\n",
        "        return source_sequence, target_sequence\n",
        "\n",
        "# Create instances of your custom dataset\n",
        "max_seq_length = 25\n",
        "train_dataset = CustomDataset(trainDataEN_indices, trainDataFR_indices, max_seq_length)\n",
        "dev_dataset = CustomDataset(devDataEN_indices, devDataFR_indices, max_seq_length)\n",
        "test_dataset = CustomDataset(testDataEN_indices, testDataFR_indices, max_seq_length)\n"
      ]
    },
    {
      "cell_type": "code",
      "execution_count": 94,
      "metadata": {
        "id": "xUZz22gzZyQ0"
      },
      "outputs": [],
      "source": [
        "# Define data loaders\n",
        "batch_size = 64\n",
        "train_loader = DataLoader(train_dataset, batch_size=batch_size, shuffle=True)\n",
        "dev_loader = DataLoader(dev_dataset, batch_size=batch_size)\n",
        "test_loader = DataLoader(test_dataset, batch_size=batch_size)\n"
      ]
    },
    {
      "cell_type": "code",
      "execution_count": 95,
      "metadata": {
        "colab": {
          "base_uri": "https://localhost:8080/"
        },
        "id": "XU4ErQO5aqGN",
        "outputId": "afc61749-7714-43f9-8d88-bd067677028d"
      },
      "outputs": [
        {
          "name": "stdout",
          "output_type": "stream",
          "text": [
            "([41, 42, 28, 21, 43, 7, 44, 21, 31, 45, 46, 47, 48, 49, 50, 28, 51, 52, 53, 47, 37, 21, 29, 54, 55], [41, 42, 43, 44, 45, 27, 46, 47, 48, 18, 49, 50, 29, 51, 18, 52, 53, 37, 54, 19, 30, 55, 0, 0, 0])\n"
          ]
        }
      ],
      "source": [
        "print(train_dataset[3])"
      ]
    },
    {
      "cell_type": "markdown",
      "metadata": {
        "id": "tMKFcIpQP9r2"
      },
      "source": [
        "## Self Attention"
      ]
    },
    {
      "cell_type": "code",
      "execution_count": 19,
      "metadata": {
        "id": "rK-EWZClQDFG"
      },
      "outputs": [],
      "source": [
        "class SelfAttention(nn.Module):\n",
        "    def __init__(self, embed_size, heads):\n",
        "        super(SelfAttention, self).__init__()\n",
        "        self.embed_size = embed_size\n",
        "        self.heads = heads\n",
        "        self.head_dim = embed_size // heads\n",
        "\n",
        "        assert (\n",
        "            self.head_dim * heads == embed_size\n",
        "        ), \"Embedding size needs to be divisible by heads\"\n",
        "\n",
        "        self.values = nn.Linear(embed_size, embed_size)\n",
        "        self.keys = nn.Linear(embed_size, embed_size)\n",
        "        self.queries = nn.Linear(embed_size, embed_size)\n",
        "        self.fc_out = nn.Linear(embed_size, embed_size)\n",
        "\n",
        "    def forward(self, values, keys, query, mask):\n",
        "        # Get number of training examples\n",
        "        N = query.shape[0]\n",
        "\n",
        "        value_len, key_len, query_len = values.shape[1], keys.shape[1], query.shape[1]\n",
        "\n",
        "        values = self.values(values)  # (N, value_len, embed_size)\n",
        "        keys = self.keys(keys)  # (N, key_len, embed_size)\n",
        "        queries = self.queries(query)  # (N, query_len, embed_size)\n",
        "\n",
        "        # Split the embedding into self.heads different pieces\n",
        "        values = values.reshape(N, value_len, self.heads, self.head_dim)\n",
        "        keys = keys.reshape(N, key_len, self.heads, self.head_dim)\n",
        "        queries = queries.reshape(N, query_len, self.heads, self.head_dim)\n",
        "\n",
        "        # Einsum does matrix mult. for query*keys for each training example\n",
        "        # with every other training example, don't be confused by einsum\n",
        "\n",
        "        energy = torch.einsum(\"nqhd,nkhd->nhqk\", [queries, keys])\n",
        "        # queries shape: (N, query_len, heads, heads_dim),\n",
        "        # keys shape: (N, key_len, heads, heads_dim)\n",
        "        # energy: (N, heads, query_len, key_len)\n",
        "\n",
        "        # Mask padded indices so their weights become 0\n",
        "        if mask is not None:\n",
        "            energy = energy.masked_fill(mask == 0, float(\"-1e20\"))\n",
        "\n",
        "        # Normalize energy values similarly to seq2seq + attention\n",
        "        # so that they sum to 1. Also divide by scaling factor for\n",
        "        # better stability\n",
        "        attention = torch.softmax(energy / (self.embed_size ** (1 / 2)), dim=3)\n",
        "        # attention shape: (N, heads, query_len, key_len)\n",
        "\n",
        "        out = torch.einsum(\"nhql,nlhd->nqhd\", [attention, values]).reshape(\n",
        "            N, query_len, self.heads * self.head_dim\n",
        "        )\n",
        "        # attention shape: (N, heads, query_len, key_len)\n",
        "        # values shape: (N, value_len, heads, heads_dim)\n",
        "        # out after matrix multiply: (N, query_len, heads, head_dim), then\n",
        "        # we reshape and flatten the last two dimensions.\n",
        "\n",
        "        out = self.fc_out(out)\n",
        "        # Linear layer doesn't modify the shape, final shape will be\n",
        "        # (N, query_len, embed_size)\n",
        "\n",
        "        return out\n"
      ]
    },
    {
      "cell_type": "markdown",
      "metadata": {
        "id": "2vL-2d75QFsu"
      },
      "source": [
        "## Transformer"
      ]
    },
    {
      "cell_type": "code",
      "execution_count": 20,
      "metadata": {
        "id": "QNWeobfnQHhM"
      },
      "outputs": [],
      "source": [
        "class TransformerBlock(nn.Module):\n",
        "    def __init__(self, embed_size, heads, dropout, forward_expansion):\n",
        "        super(TransformerBlock, self).__init__()\n",
        "        self.attention = SelfAttention(embed_size, heads)\n",
        "        self.norm1 = nn.LayerNorm(embed_size)\n",
        "        self.norm2 = nn.LayerNorm(embed_size)\n",
        "\n",
        "        self.feed_forward = nn.Sequential(\n",
        "            nn.Linear(embed_size, forward_expansion * embed_size),\n",
        "            nn.ReLU(),\n",
        "            nn.Linear(forward_expansion * embed_size, embed_size),\n",
        "        )\n",
        "\n",
        "        self.dropout = nn.Dropout(dropout)\n",
        "\n",
        "    def forward(self, value, key, query, mask):\n",
        "        attention = self.attention(value, key, query, mask)\n",
        "\n",
        "        # Add skip connection, run through normalization and finally dropout\n",
        "        x = self.dropout(self.norm1(attention + query))\n",
        "        forward = self.feed_forward(x)\n",
        "        out = self.dropout(self.norm2(forward + x))\n",
        "        return out\n"
      ]
    },
    {
      "cell_type": "markdown",
      "metadata": {
        "id": "_olnTlozQKio"
      },
      "source": [
        "### Encoder"
      ]
    },
    {
      "cell_type": "code",
      "execution_count": 21,
      "metadata": {
        "id": "gMB2mCKjQKTk"
      },
      "outputs": [],
      "source": [
        "class Encoder(nn.Module):\n",
        "    def __init__(\n",
        "        self,\n",
        "        src_vocab_size,\n",
        "        embed_size,\n",
        "        num_layers,\n",
        "        heads,\n",
        "        device,\n",
        "        forward_expansion,\n",
        "        dropout,\n",
        "        max_length,\n",
        "    ):\n",
        "\n",
        "        super(Encoder, self).__init__()\n",
        "        self.embed_size = embed_size\n",
        "        self.device = device\n",
        "        self.word_embedding = nn.Embedding(src_vocab_size, embed_size)\n",
        "        self.position_embedding = nn.Embedding(max_length, embed_size)\n",
        "\n",
        "        self.layers = nn.ModuleList(\n",
        "            [\n",
        "                TransformerBlock(\n",
        "                    embed_size,\n",
        "                    heads,\n",
        "                    dropout=dropout,\n",
        "                    forward_expansion=forward_expansion,\n",
        "                )\n",
        "                for _ in range(num_layers)\n",
        "            ]\n",
        "        )\n",
        "\n",
        "        self.dropout = nn.Dropout(dropout)\n",
        "\n",
        "    def forward(self, x, mask):\n",
        "        N, seq_length = x.shape\n",
        "        positions = torch.arange(0, seq_length).expand(N, seq_length).to(self.device)\n",
        "        out = self.dropout(\n",
        "            (self.word_embedding(x) + self.position_embedding(positions))\n",
        "        )\n",
        "\n",
        "        # In the Encoder the query, key, value are all the same, it's in the\n",
        "        # decoder this will change. This might look a bit odd in this case.\n",
        "        for layer in self.layers:\n",
        "            out = layer(out, out, out, mask)\n",
        "\n",
        "        return out\n"
      ]
    },
    {
      "cell_type": "markdown",
      "metadata": {
        "id": "umZ-AwKCQNuG"
      },
      "source": [
        "### Decoder"
      ]
    },
    {
      "cell_type": "code",
      "execution_count": 22,
      "metadata": {
        "id": "3M1EFtqTQO6C"
      },
      "outputs": [],
      "source": [
        "class DecoderBlock(nn.Module):\n",
        "    def __init__(self, embed_size, heads, forward_expansion, dropout, device):\n",
        "        super(DecoderBlock, self).__init__()\n",
        "        self.norm = nn.LayerNorm(embed_size)\n",
        "        self.attention = SelfAttention(embed_size, heads=heads)\n",
        "        self.transformer_block = TransformerBlock(\n",
        "            embed_size, heads, dropout, forward_expansion\n",
        "        )\n",
        "        self.dropout = nn.Dropout(dropout)\n",
        "\n",
        "    def forward(self, x, value, key, src_mask, trg_mask):\n",
        "        attention = self.attention(x, x, x, trg_mask)\n",
        "        query = self.dropout(self.norm(attention + x))\n",
        "        out = self.transformer_block(value, key, query, src_mask)\n",
        "        return out\n"
      ]
    },
    {
      "cell_type": "code",
      "execution_count": 23,
      "metadata": {
        "id": "ZMWl438uQRAd"
      },
      "outputs": [],
      "source": [
        "class Decoder(nn.Module):\n",
        "    def __init__(\n",
        "        self,\n",
        "        trg_vocab_size,\n",
        "        embed_size,\n",
        "        num_layers,\n",
        "        heads,\n",
        "        forward_expansion,\n",
        "        dropout,\n",
        "        device,\n",
        "        max_length,\n",
        "    ):\n",
        "        super(Decoder, self).__init__()\n",
        "        self.device = device\n",
        "        self.word_embedding = nn.Embedding(trg_vocab_size, embed_size)\n",
        "        self.position_embedding = nn.Embedding(max_length, embed_size)\n",
        "\n",
        "        self.layers = nn.ModuleList(\n",
        "            [\n",
        "                DecoderBlock(embed_size, heads, forward_expansion, dropout, device)\n",
        "                for _ in range(num_layers)\n",
        "            ]\n",
        "        )\n",
        "        self.fc_out = nn.Linear(embed_size, trg_vocab_size)\n",
        "        self.dropout = nn.Dropout(dropout)\n",
        "\n",
        "    def forward(self, x, enc_out, src_mask, trg_mask):\n",
        "        N, seq_length = x.shape\n",
        "        positions = torch.arange(0, seq_length).expand(N, seq_length).to(self.device)\n",
        "        x = self.dropout((self.word_embedding(x) + self.position_embedding(positions)))\n",
        "\n",
        "        for layer in self.layers:\n",
        "            x = layer(x, enc_out, enc_out, src_mask, trg_mask)\n",
        "\n",
        "        out = self.fc_out(x)\n",
        "\n",
        "        return out\n"
      ]
    },
    {
      "cell_type": "markdown",
      "metadata": {
        "id": "6tm21N55QWeY"
      },
      "source": [
        "### back to trans"
      ]
    },
    {
      "cell_type": "code",
      "execution_count": 24,
      "metadata": {
        "id": "vJPNmlr2QWR4"
      },
      "outputs": [],
      "source": [
        "class Transformer(nn.Module):\n",
        "    def __init__(\n",
        "        self,\n",
        "        src_vocab_size,\n",
        "        trg_vocab_size,\n",
        "        src_pad_idx,\n",
        "        trg_pad_idx,\n",
        "        embed_size=512,\n",
        "        num_layers=6,\n",
        "        forward_expansion=4,\n",
        "        heads=8,\n",
        "        dropout=0,\n",
        "        device=\"cpu\",\n",
        "        max_length=100,\n",
        "    ):\n",
        "\n",
        "        super(Transformer, self).__init__()\n",
        "\n",
        "        self.encoder = Encoder(\n",
        "            src_vocab_size,\n",
        "            embed_size,\n",
        "            num_layers,\n",
        "            heads,\n",
        "            device,\n",
        "            forward_expansion,\n",
        "            dropout,\n",
        "            max_length,\n",
        "        )\n",
        "\n",
        "        self.decoder = Decoder(\n",
        "            trg_vocab_size,\n",
        "            embed_size,\n",
        "            num_layers,\n",
        "            heads,\n",
        "            forward_expansion,\n",
        "            dropout,\n",
        "            device,\n",
        "            max_length,\n",
        "        )\n",
        "\n",
        "        self.src_pad_idx = src_pad_idx\n",
        "        self.trg_pad_idx = trg_pad_idx\n",
        "        self.device = device\n",
        "\n",
        "    def make_src_mask(self, src):\n",
        "        src_mask = (src != self.src_pad_idx).unsqueeze(1).unsqueeze(2)\n",
        "        # (N, 1, 1, src_len)\n",
        "        return src_mask.to(self.device)\n",
        "\n",
        "    def make_trg_mask(self, trg):\n",
        "        N, trg_len = trg.shape\n",
        "        trg_mask = torch.tril(torch.ones((trg_len, trg_len))).expand(\n",
        "            N, 1, trg_len, trg_len\n",
        "        )\n",
        "\n",
        "        return trg_mask.to(self.device)\n",
        "\n",
        "    def forward(self, src, trg):\n",
        "        src_mask = self.make_src_mask(src)\n",
        "        trg_mask = self.make_trg_mask(trg)\n",
        "        enc_src = self.encoder(src, src_mask)\n",
        "        out = self.decoder(trg, enc_src, src_mask, trg_mask)\n",
        "        return out\n"
      ]
    },
    {
      "cell_type": "markdown",
      "metadata": {
        "id": "YUfE0tVOQgRS"
      },
      "source": [
        "## Training"
      ]
    },
    {
      "cell_type": "code",
      "execution_count": 113,
      "metadata": {
        "id": "LppOcGi6bT7l"
      },
      "outputs": [],
      "source": [
        "import math\n",
        "from tqdm import tqdm\n"
      ]
    },
    {
      "cell_type": "code",
      "execution_count": 96,
      "metadata": {
        "colab": {
          "base_uri": "https://localhost:8080/"
        },
        "id": "QD8JbZydQiKI",
        "outputId": "2fdddb30-b4cd-48f0-d118-f23452347ae4"
      },
      "outputs": [
        {
          "data": {
            "text/plain": [
              "Transformer(\n",
              "  (encoder): Encoder(\n",
              "    (word_embedding): Embedding(27004, 512)\n",
              "    (position_embedding): Embedding(100, 512)\n",
              "    (layers): ModuleList(\n",
              "      (0-5): 6 x TransformerBlock(\n",
              "        (attention): SelfAttention(\n",
              "          (values): Linear(in_features=512, out_features=512, bias=True)\n",
              "          (keys): Linear(in_features=512, out_features=512, bias=True)\n",
              "          (queries): Linear(in_features=512, out_features=512, bias=True)\n",
              "          (fc_out): Linear(in_features=512, out_features=512, bias=True)\n",
              "        )\n",
              "        (norm1): LayerNorm((512,), eps=1e-05, elementwise_affine=True)\n",
              "        (norm2): LayerNorm((512,), eps=1e-05, elementwise_affine=True)\n",
              "        (feed_forward): Sequential(\n",
              "          (0): Linear(in_features=512, out_features=2048, bias=True)\n",
              "          (1): ReLU()\n",
              "          (2): Linear(in_features=2048, out_features=512, bias=True)\n",
              "        )\n",
              "        (dropout): Dropout(p=0, inplace=False)\n",
              "      )\n",
              "    )\n",
              "    (dropout): Dropout(p=0, inplace=False)\n",
              "  )\n",
              "  (decoder): Decoder(\n",
              "    (word_embedding): Embedding(35348, 512)\n",
              "    (position_embedding): Embedding(100, 512)\n",
              "    (layers): ModuleList(\n",
              "      (0-5): 6 x DecoderBlock(\n",
              "        (norm): LayerNorm((512,), eps=1e-05, elementwise_affine=True)\n",
              "        (attention): SelfAttention(\n",
              "          (values): Linear(in_features=512, out_features=512, bias=True)\n",
              "          (keys): Linear(in_features=512, out_features=512, bias=True)\n",
              "          (queries): Linear(in_features=512, out_features=512, bias=True)\n",
              "          (fc_out): Linear(in_features=512, out_features=512, bias=True)\n",
              "        )\n",
              "        (transformer_block): TransformerBlock(\n",
              "          (attention): SelfAttention(\n",
              "            (values): Linear(in_features=512, out_features=512, bias=True)\n",
              "            (keys): Linear(in_features=512, out_features=512, bias=True)\n",
              "            (queries): Linear(in_features=512, out_features=512, bias=True)\n",
              "            (fc_out): Linear(in_features=512, out_features=512, bias=True)\n",
              "          )\n",
              "          (norm1): LayerNorm((512,), eps=1e-05, elementwise_affine=True)\n",
              "          (norm2): LayerNorm((512,), eps=1e-05, elementwise_affine=True)\n",
              "          (feed_forward): Sequential(\n",
              "            (0): Linear(in_features=512, out_features=2048, bias=True)\n",
              "            (1): ReLU()\n",
              "            (2): Linear(in_features=2048, out_features=512, bias=True)\n",
              "          )\n",
              "          (dropout): Dropout(p=0, inplace=False)\n",
              "        )\n",
              "        (dropout): Dropout(p=0, inplace=False)\n",
              "      )\n",
              "    )\n",
              "    (fc_out): Linear(in_features=512, out_features=35348, bias=True)\n",
              "    (dropout): Dropout(p=0, inplace=False)\n",
              "  )\n",
              ")"
            ]
          },
          "execution_count": 96,
          "metadata": {},
          "output_type": "execute_result"
        }
      ],
      "source": [
        "# Initialize your Transformer model\n",
        "src_pad_idx = vocab_en['<pad>']\n",
        "trg_pad_idx = vocab_fr['<pad>']\n",
        "\n",
        "model = Transformer(src_vocab_size, trg_vocab_size, src_pad_idx, trg_pad_idx)\n",
        "\n",
        "# Define your optimizer and loss function\n",
        "lr=0.001\n",
        "optimizer = optim.Adam(model.parameters(), lr=lr)\n",
        "criterion = nn.CrossEntropyLoss()\n",
        "\n",
        "# Move the model to the GPU, if available\n",
        "device = torch.device(\"cuda\" if torch.cuda.is_available() else \"cpu\")\n",
        "model.to(device)\n"
      ]
    },
    {
      "cell_type": "code",
      "execution_count": 116,
      "metadata": {
        "colab": {
          "base_uri": "https://localhost:8080/",
          "height": 460
        },
        "id": "DyU_J-stdmlz",
        "outputId": "c3aca7de-ec0e-41ba-b6bb-357eea739d69"
      },
      "outputs": [
        {
          "name": "stderr",
          "output_type": "stream",
          "text": [
            "Epoch 1/4: 100%|██████████| 469/469 [1:49:51<00:00, 14.05s/it]\n"
          ]
        },
        {
          "name": "stdout",
          "output_type": "stream",
          "text": [
            "Epoch [1/4] - Loss: 4.9972\n"
          ]
        },
        {
          "name": "stderr",
          "output_type": "stream",
          "text": [
            "Epoch 2/4:   4%|▍         | 18/469 [04:30<1:52:52, 15.02s/it]\n"
          ]
        },
        {
          "ename": "KeyboardInterrupt",
          "evalue": "ignored",
          "output_type": "error",
          "traceback": [
            "\u001b[0;31m---------------------------------------------------------------------------\u001b[0m",
            "\u001b[0;31mKeyboardInterrupt\u001b[0m                         Traceback (most recent call last)",
            "\u001b[0;32m<ipython-input-116-518a91b358c7>\u001b[0m in \u001b[0;36m<cell line: 10>\u001b[0;34m()\u001b[0m\n\u001b[1;32m     30\u001b[0m \u001b[0;34m\u001b[0m\u001b[0m\n\u001b[1;32m     31\u001b[0m         \u001b[0;31m# Backward pass and optimization\u001b[0m\u001b[0;34m\u001b[0m\u001b[0;34m\u001b[0m\u001b[0m\n\u001b[0;32m---> 32\u001b[0;31m         \u001b[0mloss\u001b[0m\u001b[0;34m.\u001b[0m\u001b[0mbackward\u001b[0m\u001b[0;34m(\u001b[0m\u001b[0;34m)\u001b[0m\u001b[0;34m\u001b[0m\u001b[0;34m\u001b[0m\u001b[0m\n\u001b[0m\u001b[1;32m     33\u001b[0m         \u001b[0moptimizer\u001b[0m\u001b[0;34m.\u001b[0m\u001b[0mstep\u001b[0m\u001b[0;34m(\u001b[0m\u001b[0;34m)\u001b[0m\u001b[0;34m\u001b[0m\u001b[0;34m\u001b[0m\u001b[0m\n\u001b[1;32m     34\u001b[0m \u001b[0;34m\u001b[0m\u001b[0m\n",
            "\u001b[0;32m/usr/local/lib/python3.10/dist-packages/torch/_tensor.py\u001b[0m in \u001b[0;36mbackward\u001b[0;34m(self, gradient, retain_graph, create_graph, inputs)\u001b[0m\n\u001b[1;32m    485\u001b[0m                 \u001b[0minputs\u001b[0m\u001b[0;34m=\u001b[0m\u001b[0minputs\u001b[0m\u001b[0;34m,\u001b[0m\u001b[0;34m\u001b[0m\u001b[0;34m\u001b[0m\u001b[0m\n\u001b[1;32m    486\u001b[0m             )\n\u001b[0;32m--> 487\u001b[0;31m         torch.autograd.backward(\n\u001b[0m\u001b[1;32m    488\u001b[0m             \u001b[0mself\u001b[0m\u001b[0;34m,\u001b[0m \u001b[0mgradient\u001b[0m\u001b[0;34m,\u001b[0m \u001b[0mretain_graph\u001b[0m\u001b[0;34m,\u001b[0m \u001b[0mcreate_graph\u001b[0m\u001b[0;34m,\u001b[0m \u001b[0minputs\u001b[0m\u001b[0;34m=\u001b[0m\u001b[0minputs\u001b[0m\u001b[0;34m\u001b[0m\u001b[0;34m\u001b[0m\u001b[0m\n\u001b[1;32m    489\u001b[0m         )\n",
            "\u001b[0;32m/usr/local/lib/python3.10/dist-packages/torch/autograd/__init__.py\u001b[0m in \u001b[0;36mbackward\u001b[0;34m(tensors, grad_tensors, retain_graph, create_graph, grad_variables, inputs)\u001b[0m\n\u001b[1;32m    198\u001b[0m     \u001b[0;31m# some Python versions print out the first line of a multi-line function\u001b[0m\u001b[0;34m\u001b[0m\u001b[0;34m\u001b[0m\u001b[0m\n\u001b[1;32m    199\u001b[0m     \u001b[0;31m# calls in the traceback and some print out the last line\u001b[0m\u001b[0;34m\u001b[0m\u001b[0;34m\u001b[0m\u001b[0m\n\u001b[0;32m--> 200\u001b[0;31m     Variable._execution_engine.run_backward(  # Calls into the C++ engine to run the backward pass\n\u001b[0m\u001b[1;32m    201\u001b[0m         \u001b[0mtensors\u001b[0m\u001b[0;34m,\u001b[0m \u001b[0mgrad_tensors_\u001b[0m\u001b[0;34m,\u001b[0m \u001b[0mretain_graph\u001b[0m\u001b[0;34m,\u001b[0m \u001b[0mcreate_graph\u001b[0m\u001b[0;34m,\u001b[0m \u001b[0minputs\u001b[0m\u001b[0;34m,\u001b[0m\u001b[0;34m\u001b[0m\u001b[0;34m\u001b[0m\u001b[0m\n\u001b[1;32m    202\u001b[0m         allow_unreachable=True, accumulate_grad=True)  # Calls into the C++ engine to run the backward pass\n",
            "\u001b[0;31mKeyboardInterrupt\u001b[0m: "
          ]
        }
      ],
      "source": [
        "# Define the number of epochs and other hyperparameters\n",
        "num_epochs = 4\n",
        "learning_rate = 0.001\n",
        "\n",
        "# Define your loss function and optimizer\n",
        "criterion = nn.CrossEntropyLoss()\n",
        "optimizer = optim.Adam(model.parameters(), lr=learning_rate)\n",
        "\n",
        "# Training loop\n",
        "for epoch in range(num_epochs):\n",
        "    model.train()\n",
        "    total_loss = 0\n",
        "\n",
        "    # Wrap the train_loader with tqdm to create a progress bar\n",
        "    train_loader_with_progress = tqdm(train_loader, desc=f\"Epoch {epoch+1}/{num_epochs}\")\n",
        "\n",
        "    for batch_idx, (src, trg) in enumerate(train_loader_with_progress):\n",
        "        src = pad_sequence([torch.as_tensor(seq, dtype=torch.long) for seq in src], padding_value=vocab_en['<pad>']).to(device)\n",
        "        trg = pad_sequence([torch.as_tensor(seq, dtype=torch.long) for seq in trg], padding_value=vocab_fr['<pad>']).to(device)\n",
        "\n",
        "        # Forward pass\n",
        "        optimizer.zero_grad()\n",
        "        output = model(src, trg[:, :-1])  # Exclude the <eos> token from the input\n",
        "\n",
        "        # Calculate the loss\n",
        "        output_dim = output.shape[-1]\n",
        "        output = output.contiguous().view(-1, output_dim)\n",
        "        trg = trg[:, 1:].contiguous().view(-1)  # Exclude the <sos> token from the target\n",
        "        loss = criterion(output, trg)\n",
        "\n",
        "        # Backward pass and optimization\n",
        "        loss.backward()\n",
        "        optimizer.step()\n",
        "\n",
        "        total_loss += loss.item()\n",
        "\n",
        "    # Print the average loss for this epoch\n",
        "    average_loss = total_loss / len(train_loader)\n",
        "    print(f\"Epoch [{epoch+1}/{num_epochs}] - Loss: {average_loss:.4f}\")\n"
      ]
    },
    {
      "cell_type": "markdown",
      "metadata": {
        "id": "yEV7HbWJ3X-q"
      },
      "source": [
        "## Analysis"
      ]
    },
    {
      "cell_type": "code",
      "execution_count": null,
      "metadata": {
        "id": "Smh4grQj3YyZ"
      },
      "outputs": [],
      "source": [
        "import matplotlib.pyplot as plt\n",
        "\n",
        "# Data for analysis\n",
        "datasets = [\"test1.txt\", \"train1.txt\", \"dev1.txt\"]\n",
        "highest_bleu = [1.0, 1.0, 1.0]\n",
        "max_count = [15, 276, 11]\n",
        "\n",
        "# Create subplots\n",
        "fig, ax1 = plt.subplots(figsize=(8, 6))\n",
        "\n",
        "# Plot the highest BLEU scores\n",
        "ax1.bar(datasets, highest_bleu, color='lightblue')\n",
        "ax1.set_xlabel('Datasets')\n",
        "ax1.set_ylabel('Highest BLEU Score', color='blue')\n",
        "ax1.set_ylim(0, 1)\n",
        "\n",
        "# Create a second y-axis for the maximum \"1.0\" scores\n",
        "ax2 = ax1.twinx()\n",
        "ax2.plot(datasets, max_count, marker='o', color='orange', linestyle='--')\n",
        "ax2.set_ylabel('Max Count of \"1.0\" Scores', color='orange')\n",
        "ax2.set_ylim(0, max(max_count) + 10)\n",
        "\n",
        "# Add labels and a title\n",
        "plt.title('Highest BLEU Scores and Max Count of \"1.0\" Scores')\n",
        "plt.show()\n"
      ]
    },
    {
      "cell_type": "code",
      "execution_count": null,
      "metadata": {
        "id": "HPisElsP3eeH"
      },
      "outputs": [],
      "source": []
    }
  ],
  "metadata": {
    "colab": {
      "provenance": []
    },
    "kernelspec": {
      "display_name": "Python 3",
      "name": "python3"
    },
    "language_info": {
      "name": "python"
    }
  },
  "nbformat": 4,
  "nbformat_minor": 0
}
